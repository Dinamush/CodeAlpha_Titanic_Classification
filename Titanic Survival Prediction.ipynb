{
 "cells": [
  {
   "cell_type": "markdown",
   "id": "af2a0d3b-403d-4646-8def-d5691d51132f",
   "metadata": {},
   "source": [
    "# Titanic Survival Prediction Notebook\n",
    "## Samir Mohammed\n",
    "### Task 1"
   ]
  },
  {
   "cell_type": "markdown",
   "id": "15a27479-db54-410a-8cf5-dc8a8fd41d01",
   "metadata": {},
   "source": [
    "# Importing Dataset"
   ]
  },
  {
   "cell_type": "code",
   "execution_count": 41,
   "id": "f3c36bbe-5230-4c99-85de-1e3d38383951",
   "metadata": {},
   "outputs": [],
   "source": [
    "import os\n",
    "notebook_dir = \"C:/Users/sm94c/Documents/Data Science Projects/Titanic Dataset\"\n",
    "# Change the current working directory\n",
    "os.chdir(notebook_dir)"
   ]
  },
  {
   "cell_type": "code",
   "execution_count": 42,
   "id": "afbe8c6a-8202-4e68-bd22-6a403d840cbf",
   "metadata": {},
   "outputs": [
    {
     "data": {
      "text/html": [
       "<div>\n",
       "<style scoped>\n",
       "    .dataframe tbody tr th:only-of-type {\n",
       "        vertical-align: middle;\n",
       "    }\n",
       "\n",
       "    .dataframe tbody tr th {\n",
       "        vertical-align: top;\n",
       "    }\n",
       "\n",
       "    .dataframe thead th {\n",
       "        text-align: right;\n",
       "    }\n",
       "</style>\n",
       "<table border=\"1\" class=\"dataframe\">\n",
       "  <thead>\n",
       "    <tr style=\"text-align: right;\">\n",
       "      <th></th>\n",
       "      <th>PassengerId</th>\n",
       "      <th>Survived</th>\n",
       "      <th>Pclass</th>\n",
       "      <th>Name</th>\n",
       "      <th>Sex</th>\n",
       "      <th>Age</th>\n",
       "      <th>SibSp</th>\n",
       "      <th>Parch</th>\n",
       "      <th>Ticket</th>\n",
       "      <th>Fare</th>\n",
       "      <th>Cabin</th>\n",
       "      <th>Embarked</th>\n",
       "    </tr>\n",
       "  </thead>\n",
       "  <tbody>\n",
       "    <tr>\n",
       "      <th>0</th>\n",
       "      <td>1</td>\n",
       "      <td>0</td>\n",
       "      <td>3</td>\n",
       "      <td>Braund, Mr. Owen Harris</td>\n",
       "      <td>male</td>\n",
       "      <td>22.0</td>\n",
       "      <td>1</td>\n",
       "      <td>0</td>\n",
       "      <td>A/5 21171</td>\n",
       "      <td>7.2500</td>\n",
       "      <td>NaN</td>\n",
       "      <td>S</td>\n",
       "    </tr>\n",
       "    <tr>\n",
       "      <th>1</th>\n",
       "      <td>2</td>\n",
       "      <td>1</td>\n",
       "      <td>1</td>\n",
       "      <td>Cumings, Mrs. John Bradley (Florence Briggs Th...</td>\n",
       "      <td>female</td>\n",
       "      <td>38.0</td>\n",
       "      <td>1</td>\n",
       "      <td>0</td>\n",
       "      <td>PC 17599</td>\n",
       "      <td>71.2833</td>\n",
       "      <td>C85</td>\n",
       "      <td>C</td>\n",
       "    </tr>\n",
       "    <tr>\n",
       "      <th>2</th>\n",
       "      <td>3</td>\n",
       "      <td>1</td>\n",
       "      <td>3</td>\n",
       "      <td>Heikkinen, Miss. Laina</td>\n",
       "      <td>female</td>\n",
       "      <td>26.0</td>\n",
       "      <td>0</td>\n",
       "      <td>0</td>\n",
       "      <td>STON/O2. 3101282</td>\n",
       "      <td>7.9250</td>\n",
       "      <td>NaN</td>\n",
       "      <td>S</td>\n",
       "    </tr>\n",
       "    <tr>\n",
       "      <th>3</th>\n",
       "      <td>4</td>\n",
       "      <td>1</td>\n",
       "      <td>1</td>\n",
       "      <td>Futrelle, Mrs. Jacques Heath (Lily May Peel)</td>\n",
       "      <td>female</td>\n",
       "      <td>35.0</td>\n",
       "      <td>1</td>\n",
       "      <td>0</td>\n",
       "      <td>113803</td>\n",
       "      <td>53.1000</td>\n",
       "      <td>C123</td>\n",
       "      <td>S</td>\n",
       "    </tr>\n",
       "    <tr>\n",
       "      <th>4</th>\n",
       "      <td>5</td>\n",
       "      <td>0</td>\n",
       "      <td>3</td>\n",
       "      <td>Allen, Mr. William Henry</td>\n",
       "      <td>male</td>\n",
       "      <td>35.0</td>\n",
       "      <td>0</td>\n",
       "      <td>0</td>\n",
       "      <td>373450</td>\n",
       "      <td>8.0500</td>\n",
       "      <td>NaN</td>\n",
       "      <td>S</td>\n",
       "    </tr>\n",
       "  </tbody>\n",
       "</table>\n",
       "</div>"
      ],
      "text/plain": [
       "   PassengerId  Survived  Pclass  \\\n",
       "0            1         0       3   \n",
       "1            2         1       1   \n",
       "2            3         1       3   \n",
       "3            4         1       1   \n",
       "4            5         0       3   \n",
       "\n",
       "                                                Name     Sex   Age  SibSp  \\\n",
       "0                            Braund, Mr. Owen Harris    male  22.0      1   \n",
       "1  Cumings, Mrs. John Bradley (Florence Briggs Th...  female  38.0      1   \n",
       "2                             Heikkinen, Miss. Laina  female  26.0      0   \n",
       "3       Futrelle, Mrs. Jacques Heath (Lily May Peel)  female  35.0      1   \n",
       "4                           Allen, Mr. William Henry    male  35.0      0   \n",
       "\n",
       "   Parch            Ticket     Fare Cabin Embarked  \n",
       "0      0         A/5 21171   7.2500   NaN        S  \n",
       "1      0          PC 17599  71.2833   C85        C  \n",
       "2      0  STON/O2. 3101282   7.9250   NaN        S  \n",
       "3      0            113803  53.1000  C123        S  \n",
       "4      0            373450   8.0500   NaN        S  "
      ]
     },
     "execution_count": 42,
     "metadata": {},
     "output_type": "execute_result"
    }
   ],
   "source": [
    "import pandas as pd\n",
    "\n",
    "df = pd.read_csv(\"train.csv\")\n",
    "df.head()"
   ]
  },
  {
   "cell_type": "markdown",
   "id": "186c1598-81d1-431a-b81f-d85fd0c29367",
   "metadata": {},
   "source": [
    "## Examining Dataset"
   ]
  },
  {
   "cell_type": "code",
   "execution_count": 43,
   "id": "10d507d5-fb3b-4d2e-826c-fd47f53c4c67",
   "metadata": {},
   "outputs": [
    {
     "name": "stdout",
     "output_type": "stream",
     "text": [
      "<class 'pandas.core.frame.DataFrame'>\n",
      "RangeIndex: 891 entries, 0 to 890\n",
      "Data columns (total 12 columns):\n",
      " #   Column       Non-Null Count  Dtype  \n",
      "---  ------       --------------  -----  \n",
      " 0   PassengerId  891 non-null    int64  \n",
      " 1   Survived     891 non-null    int64  \n",
      " 2   Pclass       891 non-null    int64  \n",
      " 3   Name         891 non-null    object \n",
      " 4   Sex          891 non-null    object \n",
      " 5   Age          714 non-null    float64\n",
      " 6   SibSp        891 non-null    int64  \n",
      " 7   Parch        891 non-null    int64  \n",
      " 8   Ticket       891 non-null    object \n",
      " 9   Fare         891 non-null    float64\n",
      " 10  Cabin        204 non-null    object \n",
      " 11  Embarked     889 non-null    object \n",
      "dtypes: float64(2), int64(5), object(5)\n",
      "memory usage: 83.7+ KB\n"
     ]
    }
   ],
   "source": [
    "df.info()"
   ]
  },
  {
   "cell_type": "code",
   "execution_count": 45,
   "id": "ab2bc76a-2da5-473c-a1b8-697912edcb63",
   "metadata": {},
   "outputs": [
    {
     "data": {
      "text/plain": [
       "PassengerId      0\n",
       "Survived         0\n",
       "Pclass           0\n",
       "Name             0\n",
       "Sex              0\n",
       "Age            177\n",
       "SibSp            0\n",
       "Parch            0\n",
       "Ticket           0\n",
       "Fare             0\n",
       "Cabin          687\n",
       "Embarked         2\n",
       "dtype: int64"
      ]
     },
     "execution_count": 45,
     "metadata": {},
     "output_type": "execute_result"
    }
   ],
   "source": [
    "df.isna().sum()\n",
    "#there are 177 null values in age, 1 in fare and 687 in Cabin. We won't use cabin because of the number of missing variables"
   ]
  },
  {
   "cell_type": "markdown",
   "id": "d31064e6-bf27-4993-bc90-35294f9b1017",
   "metadata": {},
   "source": [
    "We can use a scikitlearn pipeline to clean the data and classify it, so we will skip imputing these values in at this stage."
   ]
  },
  {
   "cell_type": "markdown",
   "id": "153f8cc7-fbb3-4467-897b-d9f21585308d",
   "metadata": {},
   "source": [
    "# Creating Machine Learning Model\n",
    "\n",
    "We will use an XGBoost pipeline to classify the survivors. "
   ]
  },
  {
   "cell_type": "code",
   "execution_count": 108,
   "id": "07fb2af1-b87a-4bf8-88e8-a6520d4ec997",
   "metadata": {},
   "outputs": [],
   "source": [
    "X = df[['Pclass','Sex','Age','SibSp','Parch','Fare','Embarked']] #collecting all the predictor variables\n",
    "\n",
    "y = df['Survived'] #assigning y value as the output to train on\n"
   ]
  },
  {
   "cell_type": "code",
   "execution_count": 109,
   "id": "4530738d-bf43-4385-af5b-5c3eb119176e",
   "metadata": {},
   "outputs": [
    {
     "data": {
      "text/html": [
       "<div>\n",
       "<style scoped>\n",
       "    .dataframe tbody tr th:only-of-type {\n",
       "        vertical-align: middle;\n",
       "    }\n",
       "\n",
       "    .dataframe tbody tr th {\n",
       "        vertical-align: top;\n",
       "    }\n",
       "\n",
       "    .dataframe thead th {\n",
       "        text-align: right;\n",
       "    }\n",
       "</style>\n",
       "<table border=\"1\" class=\"dataframe\">\n",
       "  <thead>\n",
       "    <tr style=\"text-align: right;\">\n",
       "      <th></th>\n",
       "      <th>Pclass</th>\n",
       "      <th>Sex</th>\n",
       "      <th>Age</th>\n",
       "      <th>SibSp</th>\n",
       "      <th>Parch</th>\n",
       "      <th>Fare</th>\n",
       "      <th>Embarked</th>\n",
       "    </tr>\n",
       "  </thead>\n",
       "  <tbody>\n",
       "    <tr>\n",
       "      <th>0</th>\n",
       "      <td>3</td>\n",
       "      <td>male</td>\n",
       "      <td>22.0</td>\n",
       "      <td>1</td>\n",
       "      <td>0</td>\n",
       "      <td>7.2500</td>\n",
       "      <td>S</td>\n",
       "    </tr>\n",
       "    <tr>\n",
       "      <th>1</th>\n",
       "      <td>1</td>\n",
       "      <td>female</td>\n",
       "      <td>38.0</td>\n",
       "      <td>1</td>\n",
       "      <td>0</td>\n",
       "      <td>71.2833</td>\n",
       "      <td>C</td>\n",
       "    </tr>\n",
       "    <tr>\n",
       "      <th>2</th>\n",
       "      <td>3</td>\n",
       "      <td>female</td>\n",
       "      <td>26.0</td>\n",
       "      <td>0</td>\n",
       "      <td>0</td>\n",
       "      <td>7.9250</td>\n",
       "      <td>S</td>\n",
       "    </tr>\n",
       "    <tr>\n",
       "      <th>3</th>\n",
       "      <td>1</td>\n",
       "      <td>female</td>\n",
       "      <td>35.0</td>\n",
       "      <td>1</td>\n",
       "      <td>0</td>\n",
       "      <td>53.1000</td>\n",
       "      <td>S</td>\n",
       "    </tr>\n",
       "    <tr>\n",
       "      <th>4</th>\n",
       "      <td>3</td>\n",
       "      <td>male</td>\n",
       "      <td>35.0</td>\n",
       "      <td>0</td>\n",
       "      <td>0</td>\n",
       "      <td>8.0500</td>\n",
       "      <td>S</td>\n",
       "    </tr>\n",
       "    <tr>\n",
       "      <th>...</th>\n",
       "      <td>...</td>\n",
       "      <td>...</td>\n",
       "      <td>...</td>\n",
       "      <td>...</td>\n",
       "      <td>...</td>\n",
       "      <td>...</td>\n",
       "      <td>...</td>\n",
       "    </tr>\n",
       "    <tr>\n",
       "      <th>886</th>\n",
       "      <td>2</td>\n",
       "      <td>male</td>\n",
       "      <td>27.0</td>\n",
       "      <td>0</td>\n",
       "      <td>0</td>\n",
       "      <td>13.0000</td>\n",
       "      <td>S</td>\n",
       "    </tr>\n",
       "    <tr>\n",
       "      <th>887</th>\n",
       "      <td>1</td>\n",
       "      <td>female</td>\n",
       "      <td>19.0</td>\n",
       "      <td>0</td>\n",
       "      <td>0</td>\n",
       "      <td>30.0000</td>\n",
       "      <td>S</td>\n",
       "    </tr>\n",
       "    <tr>\n",
       "      <th>888</th>\n",
       "      <td>3</td>\n",
       "      <td>female</td>\n",
       "      <td>NaN</td>\n",
       "      <td>1</td>\n",
       "      <td>2</td>\n",
       "      <td>23.4500</td>\n",
       "      <td>S</td>\n",
       "    </tr>\n",
       "    <tr>\n",
       "      <th>889</th>\n",
       "      <td>1</td>\n",
       "      <td>male</td>\n",
       "      <td>26.0</td>\n",
       "      <td>0</td>\n",
       "      <td>0</td>\n",
       "      <td>30.0000</td>\n",
       "      <td>C</td>\n",
       "    </tr>\n",
       "    <tr>\n",
       "      <th>890</th>\n",
       "      <td>3</td>\n",
       "      <td>male</td>\n",
       "      <td>32.0</td>\n",
       "      <td>0</td>\n",
       "      <td>0</td>\n",
       "      <td>7.7500</td>\n",
       "      <td>Q</td>\n",
       "    </tr>\n",
       "  </tbody>\n",
       "</table>\n",
       "<p>891 rows × 7 columns</p>\n",
       "</div>"
      ],
      "text/plain": [
       "     Pclass     Sex   Age  SibSp  Parch     Fare Embarked\n",
       "0         3    male  22.0      1      0   7.2500        S\n",
       "1         1  female  38.0      1      0  71.2833        C\n",
       "2         3  female  26.0      0      0   7.9250        S\n",
       "3         1  female  35.0      1      0  53.1000        S\n",
       "4         3    male  35.0      0      0   8.0500        S\n",
       "..      ...     ...   ...    ...    ...      ...      ...\n",
       "886       2    male  27.0      0      0  13.0000        S\n",
       "887       1  female  19.0      0      0  30.0000        S\n",
       "888       3  female   NaN      1      2  23.4500        S\n",
       "889       1    male  26.0      0      0  30.0000        C\n",
       "890       3    male  32.0      0      0   7.7500        Q\n",
       "\n",
       "[891 rows x 7 columns]"
      ]
     },
     "execution_count": 109,
     "metadata": {},
     "output_type": "execute_result"
    }
   ],
   "source": [
    "X"
   ]
  },
  {
   "cell_type": "code",
   "execution_count": 48,
   "id": "5481eb0c-e728-471d-937d-39eb097ee589",
   "metadata": {},
   "outputs": [
    {
     "data": {
      "text/plain": [
       "0      0\n",
       "1      1\n",
       "2      1\n",
       "3      1\n",
       "4      0\n",
       "      ..\n",
       "886    0\n",
       "887    1\n",
       "888    0\n",
       "889    1\n",
       "890    0\n",
       "Name: Survived, Length: 891, dtype: int64"
      ]
     },
     "execution_count": 48,
     "metadata": {},
     "output_type": "execute_result"
    }
   ],
   "source": [
    "y"
   ]
  },
  {
   "cell_type": "code",
   "execution_count": 49,
   "id": "648b04d1-d7f8-4d88-ad9b-90da7377d802",
   "metadata": {},
   "outputs": [],
   "source": [
    "from sklearn.model_selection import train_test_split\n",
    "\n",
    "X_train, X_test, y_train, y_test = train_test_split(X, y, test_size=0.2, random_state=42)"
   ]
  },
  {
   "cell_type": "markdown",
   "id": "56275009-91aa-433e-a3a9-9cf3fd3f1eaf",
   "metadata": {},
   "source": [
    "## Creating Processing and Training Pipeline"
   ]
  },
  {
   "cell_type": "code",
   "execution_count": 116,
   "id": "bef365ac-d9d0-4588-9d40-6939154b35e2",
   "metadata": {},
   "outputs": [
    {
     "name": "stdout",
     "output_type": "stream",
     "text": [
      "Accuracy: 0.7877094972067039\n"
     ]
    }
   ],
   "source": [
    "from sklearn.compose import ColumnTransformer\n",
    "from sklearn.pipeline import Pipeline\n",
    "from sklearn.impute import SimpleImputer\n",
    "from sklearn.preprocessing import OrdinalEncoder, StandardScaler\n",
    "from xgboost import XGBClassifier\n",
    "\n",
    "categorical_cols = X.select_dtypes(include=['object']).columns\n",
    "numerical_cols = X.select_dtypes(exclude=['object']).columns\n",
    "\n",
    "# Preprocessing for numerical data\n",
    "numerical_transformer = Pipeline(steps=[\n",
    "    ('imputer', SimpleImputer(strategy='median')),  # Changed imputation strategy to median\n",
    "    ('scaler', StandardScaler())\n",
    "])\n",
    "\n",
    "categorical_transformer = Pipeline(steps=[\n",
    "    ('imputer', SimpleImputer(strategy='most_frequent')),\n",
    "    ('onehot', OrdinalEncoder())\n",
    "])\n",
    "\n",
    "preprocessor = ColumnTransformer(\n",
    "    transformers=[\n",
    "        ('num', numerical_transformer, numerical_cols),\n",
    "        ('cat', categorical_transformer, categorical_cols)\n",
    "    ])\n",
    "\n",
    "model = XGBClassifier(random_state=42)\n",
    "\n",
    "pipeline = Pipeline([\n",
    "    ('preprocessor', preprocessor),\n",
    "    ('classifier', model)\n",
    "])\n",
    "\n",
    "# Assuming X_train and y_train are defined\n",
    "pipeline.fit(X_train, y_train)\n",
    "\n",
    "# Evaluate the pipeline on a separate validation or test set\n",
    "y_pred = pipeline.predict(X_test)\n",
    "accuracy = accuracy_score(y_test, y_pred)\n",
    "print(\"Accuracy:\", accuracy)\n"
   ]
  },
  {
   "cell_type": "code",
   "execution_count": 117,
   "id": "764f979a-0124-4e74-82fe-fb3485331b48",
   "metadata": {},
   "outputs": [
    {
     "name": "stdout",
     "output_type": "stream",
     "text": [
      "Cross-Validation Scores: [0.7877095  0.81460674 0.85393258 0.7752809  0.83707865]\n",
      "Mean Accuracy: 0.8137216747222397\n"
     ]
    }
   ],
   "source": [
    "from sklearn.model_selection import cross_val_score\n",
    "cv_scores = cross_val_score(pipeline, X, y, cv=5)  # Perform 5-fold cross-validation\n",
    "\n",
    "# Print the cross-validation scores\n",
    "print(\"Cross-Validation Scores:\", cv_scores)\n",
    "print(\"Mean Accuracy:\", cv_scores.mean())"
   ]
  },
  {
   "cell_type": "markdown",
   "id": "a56bffd6-4d32-42f2-8865-8b6c63f0df81",
   "metadata": {},
   "source": [
    "## Using Optuna Hyperparameter Optimization\n",
    "- Without optimization accuracy:  0.8137216747222397"
   ]
  },
  {
   "cell_type": "code",
   "execution_count": 128,
   "id": "681da9be-63d0-452b-ab5e-da29af22c6d1",
   "metadata": {},
   "outputs": [
    {
     "data": {
      "application/vnd.jupyter.widget-view+json": {
       "model_id": "eeacf24263e0445bbdd61d92ebafae14",
       "version_major": 2,
       "version_minor": 0
      },
      "text/plain": [
       "  0%|          | 0/50 [00:00<?, ?it/s]"
      ]
     },
     "metadata": {},
     "output_type": "display_data"
    },
    {
     "name": "stdout",
     "output_type": "stream",
     "text": [
      "Best Hyperparameters: {'booster': 'gbtree', 'grow_policy': 'lossguide', 'n_estimators': 984, 'learning_rate': 0.01535501156195284, 'gamma': 0.07313908687818282, 'subsample': 0.5533059102555777, 'colsample_bytree': 0.8016238277705745, 'max_depth': 10, 'min_child_weight': 5, 'reg_lambda': 1.3955877986639501e-08, 'reg_alpha': 7.171536085576677e-06}\n"
     ]
    }
   ],
   "source": [
    "import optuna\n",
    "def objective_xgb(trial):\n",
    "    params = {\n",
    "        \"eval_metric\": \"mlogloss\",\n",
    "        \"objective\": \"multi:softmax\",\n",
    "        \"booster\": trial.suggest_categorical(\"booster\", [\"gbtree\"]),\n",
    "        \"grow_policy\": trial.suggest_categorical(\"grow_policy\", [\"depthwise\", \"lossguide\"]),\n",
    "        \"n_estimators\": trial.suggest_int(\"n_estimators\", 100, 1000),\n",
    "        \"learning_rate\": trial.suggest_float(\"learning_rate\", 0.01, 1.0, log=True),\n",
    "        \"gamma\": trial.suggest_float(\"gamma\", 1e-9, 0.5),\n",
    "        \"subsample\": trial.suggest_float(\"subsample\", 0.3, 1.0),\n",
    "        \"colsample_bytree\": trial.suggest_float(\"colsample_bytree\", 0.3, 1.0),\n",
    "        \"max_depth\": trial.suggest_int(\"max_depth\", 5, 24),\n",
    "        \"min_child_weight\": trial.suggest_int(\"min_child_weight\", 1, 7),\n",
    "        \"reg_lambda\": trial.suggest_float(\"reg_lambda\", 1e-9, 100.0, log=True),\n",
    "        \"reg_alpha\": trial.suggest_float(\"reg_alpha\", 1e-9, 100.0, log=True),\n",
    "        \"num_class\": 2,\n",
    "    }\n",
    "    \n",
    "    # Create the XGBoost classifier with the current set of hyperparameters\n",
    "    model_xgb = XGBClassifier(**params)\n",
    "\n",
    "    # Construct the full pipeline with the classifier\n",
    "    pipeline = Pipeline([\n",
    "        ('preprocessor', preprocessor),\n",
    "        ('classifier', model_xgb)\n",
    "    ])\n",
    "\n",
    "    # Fit the pipeline on the training data\n",
    "    pipeline.fit(X_train, y_train)\n",
    "\n",
    "    # Predict and calculate accuracy on the validation set\n",
    "    y_pred_c = pipeline.predict(X_test)\n",
    "\n",
    "    return accuracy_score(y_test, y_pred_c)\n",
    "\n",
    "\n",
    "study_xgboost = optuna.create_study(\n",
    "    study_name=\"Study_XGB_Obesity\", direction=\"maximize\"\n",
    ")\n",
    "optuna.logging.set_verbosity(optuna.logging.WARNING)\n",
    "study_xgboost.optimize(objective_xgb, n_trials=50, show_progress_bar=True)\n",
    "\n",
    "# Get the best hyperparameters\n",
    "best_params_xgb = study_xgboost.best_params\n",
    "print(\"Best Hyperparameters:\", best_params_xgb)"
   ]
  },
  {
   "cell_type": "code",
   "execution_count": 118,
   "id": "a2bec722-20b0-4723-ba81-8872ff06ee83",
   "metadata": {},
   "outputs": [],
   "source": [
    "new_params = {'booster': 'gbtree', # 82.61\n",
    "              'grow_policy': 'lossguide',\n",
    "              'n_estimators': 895,\n",
    "              'learning_rate': 0.017054333628010277,\n",
    "              'gamma': 0.44310580975236263,\n",
    "              'subsample': 0.6381551724807623,\n",
    "              'colsample_bytree': 0.807983630924162,\n",
    "              'max_depth': 19,\n",
    "              'min_child_weight': 7,\n",
    "              'reg_lambda': 0.00033308333616621414,\n",
    "              'reg_alpha': 1.5085870691552168e-07\n",
    "             }\n",
    "\n",
    "\n",
    "xgb = XGBClassifier(random_state=42, **new_params)\n",
    "\n",
    "# Update the pipeline\n",
    "pipeline = Pipeline([\n",
    "    ('preprocessor', preprocessor),\n",
    "    ('classifier', xgb)\n",
    "])\n"
   ]
  },
  {
   "cell_type": "code",
   "execution_count": 119,
   "id": "920372aa-0f38-4aaf-8b1c-6c7c9b6322db",
   "metadata": {},
   "outputs": [
    {
     "name": "stdout",
     "output_type": "stream",
     "text": [
      "Cross-Validation Scores: [0.78212291 0.83707865 0.86516854 0.82022472 0.81460674]\n",
      "Mean Accuracy: 0.8238403113426653\n"
     ]
    }
   ],
   "source": [
    "from sklearn.model_selection import cross_val_score\n",
    "cv_scores = cross_val_score(pipeline, X, y, cv=5)  # Perform 5-fold cross-validation\n",
    "\n",
    "# Print the cross-validation scores\n",
    "print(\"Cross-Validation Scores:\", cv_scores)\n",
    "print(\"Mean Accuracy:\", cv_scores.mean())"
   ]
  },
  {
   "cell_type": "markdown",
   "id": "7eaa3380-05c6-4992-9b95-40cce302fe47",
   "metadata": {},
   "source": [
    "Improved average accuracy to 0.8260812252840374"
   ]
  },
  {
   "cell_type": "code",
   "execution_count": 120,
   "id": "6edd6fd0-54bc-44f1-8650-6c1d8ba66d59",
   "metadata": {},
   "outputs": [
    {
     "name": "stdout",
     "output_type": "stream",
     "text": [
      "Accuracy on test set: 0.8379888268156425\n"
     ]
    }
   ],
   "source": [
    "from sklearn.metrics import accuracy_score\n",
    "\n",
    "pipeline.fit(X_train,y_train)\n",
    "y_pred_test = pipeline.predict(X_test)\n",
    "\n",
    "accuracy = accuracy_score(y_test, y_pred_test)\n",
    "print(\"Accuracy on test set:\", accuracy)"
   ]
  },
  {
   "cell_type": "code",
   "execution_count": 124,
   "id": "f7bd9ce6-aa47-4a54-a23b-1c551a03c8bc",
   "metadata": {},
   "outputs": [
    {
     "name": "stdout",
     "output_type": "stream",
     "text": [
      "Sex: 0.47941893339157104\n",
      "Pclass: 0.1676132082939148\n",
      "Parch: 0.07597095519304276\n",
      "Embarked: 0.0749925747513771\n",
      "SibSp: 0.06809727847576141\n",
      "Age: 0.06735020130872726\n",
      "Fare: 0.06655685603618622\n"
     ]
    }
   ],
   "source": [
    "\n",
    "# Extracting feature names after preprocessing\n",
    "# For numerical features, get the names after transformation\n",
    "numerical_feature_names = pipeline.named_steps['preprocessor']\\\n",
    "    .named_transformers_['num'].named_steps['scaler']\\\n",
    "    .get_feature_names_out(input_features=numerical_cols)\n",
    "\n",
    "# For categorical features, get the names after one-hot encoding\n",
    "categorical_feature_names = pipeline.named_steps['preprocessor']\\\n",
    "    .named_transformers_['cat'].named_steps['onehot']\\\n",
    "    .get_feature_names_out(input_features=categorical_cols)\n",
    "\n",
    "# Concatenate numerical and categorical feature names\n",
    "feature_names = np.concatenate([numerical_feature_names, categorical_feature_names])\n",
    "\n",
    "# Accessing the XGBoost model from the pipeline\n",
    "xgb_model = pipeline.named_steps['classifier']\n",
    "\n",
    "# Extracting feature importance\n",
    "feature_importance = xgb_model.feature_importances_\n",
    "\n",
    "# Pairing feature names with their importance scores\n",
    "features_importance_dict = dict(zip(feature_names, feature_importance))\n",
    "\n",
    "# Sorting features by importance (descending order)\n",
    "sorted_features_importance = dict(sorted(features_importance_dict.items(), key=lambda x: x[1], reverse=True))\n",
    "\n",
    "# Print feature names and their importance scores\n",
    "for feature, importance in sorted_features_importance.items():\n",
    "    print(f\"{feature}: {importance}\")"
   ]
  },
  {
   "cell_type": "code",
   "execution_count": 127,
   "id": "20be76ec-c3e9-4106-8feb-e8a2e7440bc1",
   "metadata": {},
   "outputs": [
    {
     "data": {
      "image/png": "[encoded data removed]",
      "text/plain": [
       "<Figure size 800x600 with 1 Axes>"
      ]
     },
     "metadata": {},
     "output_type": "display_data"
    }
   ],
   "source": [
    "features = list(sorted_features_importance.keys())\n",
    "importance = list(sorted_features_importance.values())\n",
    "\n",
    "# Plotting the bar plot\n",
    "plt.figure(figsize=(8, 6))\n",
    "plt.barh(features, importance, color='pink')\n",
    "plt.xlabel('Importance')\n",
    "plt.ylabel('Features')\n",
    "plt.title('Feature Importance')\n",
    "plt.gca().invert_yaxis()  # Invert y-axis to have the most important feature on top\n",
    "plt.show()"
   ]
  },
  {
   "cell_type": "code",
   "execution_count": null,
   "id": "f6db6c40-7813-4d9c-8553-8cb985845100",
   "metadata": {},
   "outputs": [],
   "source": []
  }
 ],
 "metadata": {
  "kernelspec": {
   "display_name": "Python 3 (ipykernel)",
   "language": "python",
   "name": "python3"
  },
  "language_info": {
   "codemirror_mode": {
    "name": "ipython",
    "version": 3
   },
   "file_extension": ".py",
   "mimetype": "text/x-python",
   "name": "python",
   "nbconvert_exporter": "python",
   "pygments_lexer": "ipython3",
   "version": "3.10.9"
  }
 },
 "nbformat": 4,
 "nbformat_minor": 5
}
